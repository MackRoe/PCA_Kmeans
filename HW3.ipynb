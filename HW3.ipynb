{
 "cells": [
  {
   "cell_type": "markdown",
   "metadata": {},
   "source": [
    "# Apply PCA and Clustering to Wholesale Customer Data"
   ]
  },
  {
   "cell_type": "markdown",
   "metadata": {},
   "source": [
    "### Read in wholesale_customers_data.csv from the datasets folder and store in a dataframe."
   ]
  },
  {
   "cell_type": "code",
   "execution_count": 49,
   "metadata": {},
   "outputs": [
    {
     "data": {
      "text/html": [
       "<div>\n",
       "<style scoped>\n",
       "    .dataframe tbody tr th:only-of-type {\n",
       "        vertical-align: middle;\n",
       "    }\n",
       "\n",
       "    .dataframe tbody tr th {\n",
       "        vertical-align: top;\n",
       "    }\n",
       "\n",
       "    .dataframe thead th {\n",
       "        text-align: right;\n",
       "    }\n",
       "</style>\n",
       "<table border=\"1\" class=\"dataframe\">\n",
       "  <thead>\n",
       "    <tr style=\"text-align: right;\">\n",
       "      <th></th>\n",
       "      <th>Channel</th>\n",
       "      <th>Region</th>\n",
       "      <th>Fresh</th>\n",
       "      <th>Milk</th>\n",
       "      <th>Grocery</th>\n",
       "      <th>Frozen</th>\n",
       "      <th>Detergents_Paper</th>\n",
       "      <th>Delicassen</th>\n",
       "    </tr>\n",
       "  </thead>\n",
       "  <tbody>\n",
       "    <tr>\n",
       "      <th>0</th>\n",
       "      <td>2</td>\n",
       "      <td>3</td>\n",
       "      <td>12669</td>\n",
       "      <td>9656</td>\n",
       "      <td>7561</td>\n",
       "      <td>214</td>\n",
       "      <td>2674</td>\n",
       "      <td>1338</td>\n",
       "    </tr>\n",
       "    <tr>\n",
       "      <th>1</th>\n",
       "      <td>2</td>\n",
       "      <td>3</td>\n",
       "      <td>7057</td>\n",
       "      <td>9810</td>\n",
       "      <td>9568</td>\n",
       "      <td>1762</td>\n",
       "      <td>3293</td>\n",
       "      <td>1776</td>\n",
       "    </tr>\n",
       "    <tr>\n",
       "      <th>2</th>\n",
       "      <td>2</td>\n",
       "      <td>3</td>\n",
       "      <td>6353</td>\n",
       "      <td>8808</td>\n",
       "      <td>7684</td>\n",
       "      <td>2405</td>\n",
       "      <td>3516</td>\n",
       "      <td>7844</td>\n",
       "    </tr>\n",
       "    <tr>\n",
       "      <th>3</th>\n",
       "      <td>1</td>\n",
       "      <td>3</td>\n",
       "      <td>13265</td>\n",
       "      <td>1196</td>\n",
       "      <td>4221</td>\n",
       "      <td>6404</td>\n",
       "      <td>507</td>\n",
       "      <td>1788</td>\n",
       "    </tr>\n",
       "    <tr>\n",
       "      <th>4</th>\n",
       "      <td>2</td>\n",
       "      <td>3</td>\n",
       "      <td>22615</td>\n",
       "      <td>5410</td>\n",
       "      <td>7198</td>\n",
       "      <td>3915</td>\n",
       "      <td>1777</td>\n",
       "      <td>5185</td>\n",
       "    </tr>\n",
       "    <tr>\n",
       "      <th>...</th>\n",
       "      <td>...</td>\n",
       "      <td>...</td>\n",
       "      <td>...</td>\n",
       "      <td>...</td>\n",
       "      <td>...</td>\n",
       "      <td>...</td>\n",
       "      <td>...</td>\n",
       "      <td>...</td>\n",
       "    </tr>\n",
       "    <tr>\n",
       "      <th>435</th>\n",
       "      <td>1</td>\n",
       "      <td>3</td>\n",
       "      <td>29703</td>\n",
       "      <td>12051</td>\n",
       "      <td>16027</td>\n",
       "      <td>13135</td>\n",
       "      <td>182</td>\n",
       "      <td>2204</td>\n",
       "    </tr>\n",
       "    <tr>\n",
       "      <th>436</th>\n",
       "      <td>1</td>\n",
       "      <td>3</td>\n",
       "      <td>39228</td>\n",
       "      <td>1431</td>\n",
       "      <td>764</td>\n",
       "      <td>4510</td>\n",
       "      <td>93</td>\n",
       "      <td>2346</td>\n",
       "    </tr>\n",
       "    <tr>\n",
       "      <th>437</th>\n",
       "      <td>2</td>\n",
       "      <td>3</td>\n",
       "      <td>14531</td>\n",
       "      <td>15488</td>\n",
       "      <td>30243</td>\n",
       "      <td>437</td>\n",
       "      <td>14841</td>\n",
       "      <td>1867</td>\n",
       "    </tr>\n",
       "    <tr>\n",
       "      <th>438</th>\n",
       "      <td>1</td>\n",
       "      <td>3</td>\n",
       "      <td>10290</td>\n",
       "      <td>1981</td>\n",
       "      <td>2232</td>\n",
       "      <td>1038</td>\n",
       "      <td>168</td>\n",
       "      <td>2125</td>\n",
       "    </tr>\n",
       "    <tr>\n",
       "      <th>439</th>\n",
       "      <td>1</td>\n",
       "      <td>3</td>\n",
       "      <td>2787</td>\n",
       "      <td>1698</td>\n",
       "      <td>2510</td>\n",
       "      <td>65</td>\n",
       "      <td>477</td>\n",
       "      <td>52</td>\n",
       "    </tr>\n",
       "  </tbody>\n",
       "</table>\n",
       "<p>440 rows × 8 columns</p>\n",
       "</div>"
      ],
      "text/plain": [
       "     Channel  Region  Fresh   Milk  Grocery  Frozen  Detergents_Paper  \\\n",
       "0          2       3  12669   9656     7561     214              2674   \n",
       "1          2       3   7057   9810     9568    1762              3293   \n",
       "2          2       3   6353   8808     7684    2405              3516   \n",
       "3          1       3  13265   1196     4221    6404               507   \n",
       "4          2       3  22615   5410     7198    3915              1777   \n",
       "..       ...     ...    ...    ...      ...     ...               ...   \n",
       "435        1       3  29703  12051    16027   13135               182   \n",
       "436        1       3  39228   1431      764    4510                93   \n",
       "437        2       3  14531  15488    30243     437             14841   \n",
       "438        1       3  10290   1981     2232    1038               168   \n",
       "439        1       3   2787   1698     2510      65               477   \n",
       "\n",
       "     Delicassen  \n",
       "0          1338  \n",
       "1          1776  \n",
       "2          7844  \n",
       "3          1788  \n",
       "4          5185  \n",
       "..          ...  \n",
       "435        2204  \n",
       "436        2346  \n",
       "437        1867  \n",
       "438        2125  \n",
       "439          52  \n",
       "\n",
       "[440 rows x 8 columns]"
      ]
     },
     "execution_count": 49,
     "metadata": {},
     "output_type": "execute_result"
    }
   ],
   "source": [
    "import pandas as pd\n",
    "\n",
    "df = pd.read_csv(\"./wholesale_customers_data.csv\")\n",
    "df"
   ]
  },
  {
   "cell_type": "markdown",
   "metadata": {},
   "source": [
    "### Store the Channel column in a separate variable"
   ]
  },
  {
   "cell_type": "code",
   "execution_count": 50,
   "metadata": {},
   "outputs": [],
   "source": [
    "df_channel = df['Channel']\n",
    "channel = np.array(df_channel)\n",
    "# channel is target"
   ]
  },
  {
   "cell_type": "markdown",
   "metadata": {},
   "source": [
    "### drop the Channel and Region columns from the dataframe"
   ]
  },
  {
   "cell_type": "code",
   "execution_count": 51,
   "metadata": {},
   "outputs": [],
   "source": [
    "df = df.drop(columns=['Channel', 'Region'])\n",
    "\n",
    "# df is features"
   ]
  },
  {
   "cell_type": "code",
   "execution_count": 52,
   "metadata": {},
   "outputs": [
    {
     "data": {
      "text/plain": [
       "<bound method NDFrame.head of      Fresh   Milk  Grocery  Frozen  Detergents_Paper  Delicassen\n",
       "0    12669   9656     7561     214              2674        1338\n",
       "1     7057   9810     9568    1762              3293        1776\n",
       "2     6353   8808     7684    2405              3516        7844\n",
       "3    13265   1196     4221    6404               507        1788\n",
       "4    22615   5410     7198    3915              1777        5185\n",
       "..     ...    ...      ...     ...               ...         ...\n",
       "435  29703  12051    16027   13135               182        2204\n",
       "436  39228   1431      764    4510                93        2346\n",
       "437  14531  15488    30243     437             14841        1867\n",
       "438  10290   1981     2232    1038               168        2125\n",
       "439   2787   1698     2510      65               477          52\n",
       "\n",
       "[440 rows x 6 columns]>"
      ]
     },
     "execution_count": 52,
     "metadata": {},
     "output_type": "execute_result"
    }
   ],
   "source": [
    "df.head\n"
   ]
  },
  {
   "cell_type": "markdown",
   "metadata": {},
   "source": [
    "### Scale the data"
   ]
  },
  {
   "cell_type": "code",
   "execution_count": 53,
   "metadata": {},
   "outputs": [],
   "source": [
    "from sklearn import preprocessing\n",
    "\n",
    "\n",
    "min_max_scaler = preprocessing.MinMaxScaler()\n",
    "\n",
    "scaled_df = min_max_scaler.fit_transform(df)\n"
   ]
  },
  {
   "cell_type": "markdown",
   "metadata": {},
   "source": [
    "### fit a k-means object to data"
   ]
  },
  {
   "cell_type": "code",
   "execution_count": 54,
   "metadata": {},
   "outputs": [],
   "source": [
    "from sklearn.cluster import KMeans\n",
    "import numpy as np\n",
    "\n",
    "X = scaled_df\n",
    "kmeans = KMeans(n_clusters=2, random_state=0).fit(X)"
   ]
  },
  {
   "cell_type": "markdown",
   "metadata": {},
   "source": [
    "### visualize the data and the clustering"
   ]
  },
  {
   "cell_type": "code",
   "execution_count": 55,
   "metadata": {},
   "outputs": [
    {
     "name": "stdout",
     "output_type": "stream",
     "text": [
      "(440, 6)\n"
     ]
    }
   ],
   "source": [
    "import matplotlib.pyplot as plt\n",
    "\n",
    "print(X.shape)"
   ]
  },
  {
   "cell_type": "code",
   "execution_count": null,
   "metadata": {},
   "outputs": [],
   "source": []
  },
  {
   "cell_type": "code",
   "execution_count": 81,
   "metadata": {},
   "outputs": [
    {
     "data": {
      "text/plain": [
       "array([1.12940044e-01, 6.28990263e-02, 5.66216072e-02, 1.18254449e-01,\n",
       "       2.01626422e-01, 8.39069801e-02, 1.08098227e-01, 6.75535899e-02,\n",
       "       5.31440596e-02, 5.35274815e-02, 2.99871598e-02, 1.17193352e-01,\n",
       "       2.82760281e-01, 1.89160752e-01, 2.19798837e-01, 9.13970824e-02,\n",
       "       9.06837393e-03, 5.23682990e-02, 1.65834433e-01, 6.93458644e-02,\n",
       "       1.56427221e-01, 4.96130114e-02, 2.78854728e-01, 2.35135714e-01,\n",
       "       2.01911759e-01, 1.44113136e-01, 8.82316225e-02, 1.27269323e-01,\n",
       "       3.66480009e-02, 3.84179834e-01, 1.67742626e-01, 2.32639013e-02,\n",
       "       1.92861219e-01, 2.65060456e-01, 1.33662660e-02, 6.10800014e-03,\n",
       "       2.67075650e-01, 1.35223098e-01, 4.09102258e-02, 5.00731177e-01,\n",
       "       2.14199094e-01, 1.70961586e-01, 9.67204052e-02, 5.59082641e-03,\n",
       "       8.61985947e-02, 4.61711310e-02, 2.76420444e-02, 3.96467168e-01,\n",
       "       1.02685737e-01, 4.42629383e-02, 5.58725969e-02, 2.98177408e-02,\n",
       "       3.63073795e-01, 4.35139280e-03, 2.43660163e-01, 4.69112245e-02,\n",
       "       3.65142490e-02, 4.82754931e-02, 1.22837679e-01, 5.46955808e-02,\n",
       "       7.65684631e-02, 3.20460463e-01, 6.97292863e-02, 8.37553947e-02,\n",
       "       4.24171630e-02, 7.31176659e-04, 5.35007312e-05, 1.77533260e-01,\n",
       "       2.17837144e-02, 7.44462674e-02, 1.48928202e-01, 1.63070229e-01,\n",
       "       3.93854549e-02, 1.77408425e-01, 7.30017477e-02, 1.81857902e-01,\n",
       "       6.36658701e-03, 1.08802654e-01, 9.59713949e-02, 1.45967828e-02,\n",
       "       6.24353533e-02, 1.92602632e-03, 9.23690124e-02, 1.86102293e-01,\n",
       "       1.05788779e-01, 1.43685130e-01, 2.04390627e-01, 3.85758105e-01,\n",
       "       7.00948746e-02, 2.22036951e-01, 1.01669223e-01, 1.13697971e-01,\n",
       "       8.19898705e-02, 1.00857795e-01, 5.01391019e-02, 0.00000000e+00,\n",
       "       1.78335771e-04, 3.56671541e-03, 4.45839426e-03, 8.60915933e-02,\n",
       "       1.03354496e-01, 1.26350893e-02, 2.61172736e-02, 5.00044584e-01,\n",
       "       1.25699968e-01, 1.38959232e-01, 1.29382602e-02, 7.84142383e-02,\n",
       "       1.36248529e-02, 1.25102543e-02, 1.05351856e-01, 1.12137533e-01,\n",
       "       1.69802404e-01, 1.28713842e-01, 1.60867782e-01, 9.92527731e-02,\n",
       "       9.96005279e-02, 6.23016015e-02, 1.78745943e-01, 7.36080893e-02,\n",
       "       1.52985341e-01, 3.58187395e-02, 1.08865071e-01, 9.95737775e-02,\n",
       "       3.21423476e-01, 6.79762457e-01, 1.71345008e-01, 1.91372115e-01,\n",
       "       1.22160003e-03, 3.77260406e-01, 6.37193708e-02, 1.87074223e-02,\n",
       "       1.32860149e-01, 8.40942326e-02, 6.58504833e-02, 5.61490174e-02,\n",
       "       4.12133966e-02, 2.74993758e-02, 1.20679816e-01, 4.80079894e-02,\n",
       "       1.57113814e-01, 2.70856368e-01, 3.30215430e-01, 9.27524343e-02,\n",
       "       1.67849627e-01, 1.96490352e-01, 6.92477797e-02, 8.20344545e-02,\n",
       "       5.27963049e-02, 2.83634126e-01, 1.44648144e-01, 1.14669900e-02,\n",
       "       1.67965546e-01, 3.08520883e-02, 5.51949210e-03, 1.77087420e-02,\n",
       "       3.41245497e-02, 1.58451332e-01, 2.54841816e-02, 3.13870956e-03,\n",
       "       1.53547098e-02, 1.10844598e-01, 1.35303349e-01, 4.92920070e-02,\n",
       "       4.65545529e-02, 1.39208903e-01, 4.29700039e-02, 2.60637729e-02,\n",
       "       5.17708742e-02, 4.82487427e-02, 2.29161465e-03, 1.75660734e-03,\n",
       "       8.48878268e-03, 4.55647894e-03, 2.52345115e-03, 2.08652852e-02,\n",
       "       4.06935478e-01, 1.13742554e-01, 9.80757570e-02, 2.81235510e-02,\n",
       "       1.10149089e-01, 1.00000000e+00, 6.16150087e-03, 3.28530157e-01,\n",
       "       2.88903948e-03, 7.28234119e-02, 2.68038663e-02, 2.17123801e-02,\n",
       "       7.16642294e-02, 7.40985127e-03, 1.50987980e-01, 1.21455577e-01,\n",
       "       4.90958376e-02, 1.57827157e-03, 6.33448657e-02, 1.51763741e-01,\n",
       "       2.73040982e-01, 2.16142954e-02, 1.04174840e-01, 8.61985947e-02,\n",
       "       2.73210401e-02, 3.99561294e-02, 2.24703071e-01, 5.17173735e-03,\n",
       "       1.74144880e-02, 9.84413454e-03, 5.67999429e-02, 2.26308093e-02,\n",
       "       1.36783536e-02, 4.94614260e-02, 1.65531262e-01, 1.08035810e-01,\n",
       "       6.49855548e-02, 2.95502372e-02, 2.10347041e-02, 2.49937582e-02,\n",
       "       2.25505582e-02, 1.60867782e-01, 1.33751828e-04, 3.70225060e-02,\n",
       "       1.31540464e-01, 4.80882405e-02, 4.49227806e-02, 2.48510896e-02,\n",
       "       6.48339694e-02, 1.13038128e-01, 1.85281949e-01, 3.60149089e-02,\n",
       "       1.66387274e-02, 7.71569711e-02, 9.86999322e-02, 2.08742019e-02,\n",
       "       2.31470913e-01, 8.56903378e-03, 1.39101901e-01, 1.63623070e-02,\n",
       "       7.69697186e-02, 1.66645861e-01, 6.56275636e-02, 4.23458287e-01,\n",
       "       1.96998609e-01, 2.22259871e-01, 1.62490637e-01, 9.99304490e-02,\n",
       "       5.52751721e-02, 2.72764561e-02, 7.91989157e-02, 1.20965153e-01,\n",
       "       1.39708243e-01, 7.16642294e-02, 2.84267218e-02, 5.46688305e-02,\n",
       "       5.90291401e-02, 2.63250348e-01, 9.25205978e-02, 2.81868602e-01,\n",
       "       9.88782680e-02, 7.55430324e-02, 5.00053501e-01, 4.74390983e-01,\n",
       "       8.19452866e-02, 7.00413739e-02, 2.07351000e-01, 1.91710953e-02,\n",
       "       9.54096373e-03, 5.26625531e-02, 5.07365267e-03, 1.86271712e-01,\n",
       "       1.06154367e-01, 1.35668937e-01, 4.20604915e-02, 1.85469201e-02,\n",
       "       4.55647894e-03, 3.28262653e-01, 7.94485858e-03, 6.03666583e-03,\n",
       "       2.48760566e-01, 8.07682705e-02, 1.04237258e-01, 1.54768699e-01,\n",
       "       2.99871598e-02, 1.09096908e-01, 4.37457645e-01, 2.29732140e-01,\n",
       "       6.14794736e-01, 3.58909655e-01, 6.37193708e-02, 1.36881621e-01,\n",
       "       1.44960231e-01, 3.81486964e-01, 2.41199130e-02, 5.36701502e-02,\n",
       "       2.52790955e-02, 3.56047366e-02, 1.89660092e-01, 6.76338410e-02,\n",
       "       1.70167992e-01, 7.21100688e-02, 6.02329065e-02, 3.93230374e-03,\n",
       "       1.46636587e-01, 4.70806434e-02, 2.57071013e-02, 2.31479830e-02,\n",
       "       1.40885259e-03, 2.14002925e-03, 5.76470378e-02, 1.54474444e-01,\n",
       "       6.22748511e-02, 8.15886150e-03, 6.26939402e-02, 2.64222278e-01,\n",
       "       1.90284267e-02, 8.72151086e-02, 9.46427935e-02, 1.31611799e-02,\n",
       "       6.35232015e-02, 1.05128937e-02, 1.05191354e-01, 8.69921889e-02,\n",
       "       1.57916325e-02, 8.16064486e-02, 1.41580768e-01, 1.19101544e-01,\n",
       "       2.31604665e-01, 2.91703820e-01, 3.93319542e-02, 4.80614902e-03,\n",
       "       1.50961230e-01, 4.55647894e-02, 8.72686093e-02, 1.00046367e-01,\n",
       "       1.99004886e-01, 7.63455434e-02, 1.49980383e-01, 2.41457717e-01,\n",
       "       1.24540785e-01, 8.33541392e-02, 0.00000000e+00, 2.33084852e-02,\n",
       "       3.37054606e-03, 2.06601990e-02, 2.24703071e-03, 1.50337055e-02,\n",
       "       2.71070371e-02, 1.06555623e-02, 2.46816706e-02, 2.44114920e-01,\n",
       "       3.05400007e-02, 5.33045618e-02, 3.13692620e-02, 1.07625638e-02,\n",
       "       5.39465706e-03, 1.01651389e-03, 1.25156044e-01, 1.66743946e-03,\n",
       "       2.02259514e-01, 3.03170810e-04, 6.74109213e-03, 7.07101330e-03,\n",
       "       1.76044156e-01, 4.21853265e-02, 1.88857581e-02, 4.12312302e-02,\n",
       "       2.32906516e-02, 4.18108214e-02, 8.52266648e-02, 3.09769234e-02,\n",
       "       1.99129721e-01, 5.53554232e-02, 3.53782502e-01, 1.79245283e-01,\n",
       "       3.46060563e-02, 1.34402754e-01, 5.64878553e-02, 5.20562114e-02,\n",
       "       2.79362985e-02, 3.45882227e-01, 2.87298926e-02, 3.60684096e-02,\n",
       "       2.51934943e-01, 1.58424582e-01, 3.07192282e-01, 1.62107215e-02,\n",
       "       9.52313015e-02, 1.03720084e-01, 1.07268966e-02, 1.86494632e-01,\n",
       "       8.72240254e-02, 8.36573100e-02, 2.98623248e-02, 2.35759889e-02,\n",
       "       4.59214609e-03, 2.10694796e-01, 1.10336341e-01, 8.55922531e-02,\n",
       "       4.02325498e-02, 1.02828405e-01, 1.01999144e-01, 8.56814210e-02,\n",
       "       3.96172914e-02, 2.42215644e-01, 2.36615900e-01, 2.28296537e-01,\n",
       "       1.61126369e-01, 6.13564219e-02, 2.23481471e-01, 6.56186468e-02,\n",
       "       7.35991725e-02, 7.76206441e-02, 5.91183080e-02, 1.89303420e-02,\n",
       "       8.38178122e-04, 4.44056069e-02, 5.31975604e-02, 6.98987053e-02,\n",
       "       3.91090345e-02, 4.51367835e-02, 5.85833006e-03, 7.89849128e-02,\n",
       "       3.97064593e-02, 1.52120412e-01, 2.35376467e-01, 1.56596640e-01,\n",
       "       1.51380319e-01, 1.00224703e-01, 1.17086350e-01, 2.76500696e-01,\n",
       "       2.71427043e-02, 7.67200485e-02, 2.75885437e-02, 7.60602062e-02,\n",
       "       1.88269073e-01, 1.76463245e-02, 1.49160039e-01, 2.64828619e-01,\n",
       "       3.49761030e-01, 1.29543104e-01, 9.17270036e-02, 2.48243393e-02])"
      ]
     },
     "execution_count": 81,
     "metadata": {},
     "output_type": "execute_result"
    }
   ],
   "source": [
    "milk = X[:, 0]\n",
    "milk\n"
   ]
  },
  {
   "cell_type": "code",
   "execution_count": 82,
   "metadata": {},
   "outputs": [
    {
     "data": {
      "text/plain": [
       "array([0.08146416, 0.10309667, 0.08278992, 0.04546385, 0.07755155,\n",
       "       0.05521843, 0.07514794, 0.10156612, 0.06670834, 0.20347715,\n",
       "       0.13980836, 0.04871897, 0.12669088, 0.16145165, 0.13029091,\n",
       "       0.04115244, 0.13061427, 0.0315811 , 0.10882007, 0.10197571,\n",
       "       0.04957048, 0.02163252, 0.04813693, 0.23730019, 0.1486252 ,\n",
       "       0.08183063, 0.03080505, 0.0327883 , 0.27974606, 0.02808886,\n",
       "       0.11968484, 0.03373681, 0.03107451, 0.0789312 , 0.02434871,\n",
       "       0.11951238, 0.05847354, 0.13445143, 0.18006618, 0.0096899 ,\n",
       "       0.05124115, 0.06416461, 0.1612253 , 0.25863091, 0.11282969,\n",
       "       0.23204027, 0.23661037, 0.59894155, 0.11710877, 0.31169363,\n",
       "       0.02130916, 0.07537428, 0.06330233, 0.12426571, 0.02095347,\n",
       "       0.05391422, 0.28954374, 0.11300214, 0.01773069, 0.08662707,\n",
       "       0.08462227, 0.6423467 , 0.07050239, 0.16999903, 0.0349979 ,\n",
       "       0.4939263 , 0.07991205, 0.14506828, 0.04300635, 0.01390431,\n",
       "       0.03448053, 0.22676957, 0.02864934, 0.09388103, 0.10553262,\n",
       "       0.        , 0.07037305, 0.30758701, 0.02224689, 0.0393632 ,\n",
       "       0.03240027, 0.15521088, 0.11862854, 0.01918579, 0.05185552,\n",
       "       1.        , 0.34610949, 0.08745702, 0.0435345 , 0.05741725,\n",
       "       0.0176229 , 0.02723735, 0.34524721, 0.022193  , 0.122013  ,\n",
       "       0.06735506, 0.0874678 , 0.00654257, 0.00835336, 0.02054388,\n",
       "       0.13086217, 0.17530207, 0.08271447, 0.09596128, 0.03709971,\n",
       "       0.04275844, 0.11534109, 0.16041691, 0.07521261, 0.31239424,\n",
       "       0.0182265 , 0.18933572, 0.02657986, 0.01864686, 0.02152473,\n",
       "       0.03217392, 0.03612964, 0.05795617, 0.02542656, 0.02310918,\n",
       "       0.03674402, 0.01611391, 0.00260841, 0.09496966, 0.0318829 ,\n",
       "       0.07651681, 0.01783847, 0.11513629, 0.041174  , 0.01624325,\n",
       "       0.00750186, 0.00335212, 0.02668765, 0.01327915, 0.0234002 ,\n",
       "       0.02789484, 0.07574075, 0.08923548, 0.0542268 , 0.0360003 ,\n",
       "       0.07870485, 0.05589747, 0.0889229 , 0.01178094, 0.02139539,\n",
       "       0.3749744 , 0.02343253, 0.02914515, 0.00580963, 0.01776302,\n",
       "       0.01899178, 0.02176186, 0.03375837, 0.02549123, 0.00144432,\n",
       "       0.20971793, 0.16008278, 0.02663376, 0.1036356 , 0.15821809,\n",
       "       0.13817002, 0.00301799, 0.04103388, 0.28958686, 0.0924906 ,\n",
       "       0.21400778, 0.09880682, 0.03519191, 0.00862283, 0.0231954 ,\n",
       "       0.14472337, 0.21355508, 0.07041616, 0.21343652, 0.05645796,\n",
       "       0.12795197, 0.07041616, 0.04882676, 0.05326751, 0.026914  ,\n",
       "       0.09575649, 0.19557649, 0.11333628, 0.21737068, 0.05073456,\n",
       "       0.01224441, 0.00917253, 0.10580208, 0.12593639, 0.12415793,\n",
       "       0.02131994, 0.01485282, 0.02423014, 0.21868567, 0.03202302,\n",
       "       0.05633939, 0.05275014, 0.11196741, 0.07352038, 0.02273193,\n",
       "       0.24924281, 0.26628367, 0.10225595, 0.02385289, 0.05629628,\n",
       "       0.25429794, 0.01020727, 0.06559815, 0.06289274, 0.18069134,\n",
       "       0.01498216, 0.42781077, 0.022193  , 0.07391918, 0.12245492,\n",
       "       0.16744452, 0.39323324, 0.02202054, 0.16385527, 0.01494983,\n",
       "       0.0148636 , 0.11471593, 0.03075116, 0.05671664, 0.01612469,\n",
       "       0.04477403, 0.09925951, 0.01681451, 0.00613299, 0.02692478,\n",
       "       0.06048913, 0.04122789, 0.04133568, 0.03570928, 0.04128178,\n",
       "       0.03040624, 0.03280986, 0.00635933, 0.00627311, 0.04069974,\n",
       "       0.07585932, 0.02664453, 0.03137631, 0.05514298, 0.11655906,\n",
       "       0.14996174, 0.01912112, 0.00523837, 0.02590082, 0.02227923,\n",
       "       0.01935825, 0.36197549, 0.05105791, 0.18283626, 0.05114414,\n",
       "       0.01608157, 0.05654419, 0.02026364, 0.02286127, 0.07903899,\n",
       "       0.02321696, 0.01175938, 0.01804327, 0.07201138, 0.16644211,\n",
       "       0.14762279, 0.23905709, 0.02773317, 0.21388922, 0.01223364,\n",
       "       0.01047673, 0.01681451, 0.07400541, 0.01606001, 0.01981094,\n",
       "       0.00237128, 0.07502937, 0.0073294 , 0.02737748, 0.10445477,\n",
       "       0.02617028, 0.06717182, 0.04579799, 0.02166485, 0.13587419,\n",
       "       0.03877038, 0.0133546 , 0.03044936, 0.01393664, 0.00504435,\n",
       "       0.02844455, 0.03511646, 0.04662794, 0.1343652 , 0.07056706,\n",
       "       0.05638251, 0.03923386, 0.0752665 , 0.10737575, 0.02217144,\n",
       "       0.06851914, 0.21983897, 0.10543561, 0.149024  , 0.26698427,\n",
       "       0.09537924, 0.23246063, 0.03060026, 0.03237871, 0.14620003,\n",
       "       0.02589004, 0.08921392, 0.20661371, 0.02589004, 0.08239111,\n",
       "       0.1284909 , 0.02369122, 0.06586762, 0.03831769, 0.19015489,\n",
       "       0.02454272, 0.05566035, 0.0356985 , 0.1249232 , 0.02652597,\n",
       "       0.14683596, 0.01539175, 0.01790314, 0.03649611, 0.04936568,\n",
       "       0.05503519, 0.28925272, 0.0155642 , 0.72534141, 0.02953318,\n",
       "       0.11626804, 0.01430311, 0.02811042, 0.07564375, 0.0574388 ,\n",
       "       0.10419608, 0.12109682, 0.06380892, 0.28361555, 0.01897022,\n",
       "       0.08980674, 0.16747685, 0.13266219, 0.02182653, 0.22115395,\n",
       "       0.0214924 , 0.24026429, 0.01649116, 0.22850491, 0.02743137,\n",
       "       0.02165407, 0.00231738, 0.24002716, 0.01786003, 0.02269959,\n",
       "       0.0215894 , 0.00928032, 0.02640741, 0.0478028 , 0.01639415,\n",
       "       0.0864654 , 0.01790314, 0.0057234 , 0.02590082, 0.0073294 ,\n",
       "       0.0533753 , 0.02086724, 0.01765524, 0.07970726, 0.01794626,\n",
       "       0.01249232, 0.14640482, 0.02850922, 0.02046844, 0.11196741,\n",
       "       0.0230984 , 0.01739655, 0.09125106, 0.0371536 , 0.16595708,\n",
       "       0.01736422, 0.03076193, 0.0169223 , 0.01260011, 0.01529474,\n",
       "       0.01428156, 0.02489841, 0.03877038, 0.04137879, 0.03450209,\n",
       "       0.01358095, 0.10069306, 0.01535941, 0.00624077, 0.01004559,\n",
       "       0.01331149, 0.02290438, 0.05484118, 0.04959203, 0.03708893,\n",
       "       0.01254621, 0.05414057, 0.20134301, 0.06902573, 0.06571672,\n",
       "       0.04915011, 0.03533203, 0.13362148, 0.07146168, 0.03679791,\n",
       "       0.09214568, 0.11753991, 0.11912435, 0.20068551, 0.02392834,\n",
       "       0.14253533, 0.09754573, 0.04493571, 0.05016329, 0.13181069,\n",
       "       0.0279164 , 0.15427315, 0.05848432, 0.05289026, 0.03855481,\n",
       "       0.17763023, 0.0555849 , 0.05120881, 0.01606001, 0.08613126,\n",
       "       0.17271522, 0.00820246, 0.32594285, 0.02402535, 0.02702178])"
      ]
     },
     "execution_count": 82,
     "metadata": {},
     "output_type": "execute_result"
    }
   ],
   "source": [
    "grocery = X[:, 2]\n",
    "grocery"
   ]
  },
  {
   "cell_type": "code",
   "execution_count": 58,
   "metadata": {},
   "outputs": [
    {
     "data": {
      "text/plain": [
       "<matplotlib.collections.PathCollection at 0x120c2e810>"
      ]
     },
     "execution_count": 58,
     "metadata": {},
     "output_type": "execute_result"
    },
    {
     "data": {
      "image/png": "[encoded data removed]",
      "text/plain": [
       "<Figure size 432x288 with 1 Axes>"
      ]
     },
     "metadata": {
      "needs_background": "light"
     },
     "output_type": "display_data"
    }
   ],
   "source": [
    "# overall view scatter\n",
    "\n",
    "plt.scatter(milk, grocery)"
   ]
  },
  {
   "cell_type": "code",
   "execution_count": 59,
   "metadata": {},
   "outputs": [
    {
     "data": {
      "text/html": [
       "<div>\n",
       "<style scoped>\n",
       "    .dataframe tbody tr th:only-of-type {\n",
       "        vertical-align: middle;\n",
       "    }\n",
       "\n",
       "    .dataframe tbody tr th {\n",
       "        vertical-align: top;\n",
       "    }\n",
       "\n",
       "    .dataframe thead th {\n",
       "        text-align: right;\n",
       "    }\n",
       "</style>\n",
       "<table border=\"1\" class=\"dataframe\">\n",
       "  <thead>\n",
       "    <tr style=\"text-align: right;\">\n",
       "      <th></th>\n",
       "      <th>Fresh</th>\n",
       "      <th>Milk</th>\n",
       "      <th>Grocery</th>\n",
       "      <th>Frozen</th>\n",
       "      <th>Detergents_Paper</th>\n",
       "      <th>Delicassen</th>\n",
       "    </tr>\n",
       "  </thead>\n",
       "  <tbody>\n",
       "    <tr>\n",
       "      <th>Fresh</th>\n",
       "      <td>1.000000</td>\n",
       "      <td>0.100510</td>\n",
       "      <td>-0.011854</td>\n",
       "      <td>0.345881</td>\n",
       "      <td>-0.101953</td>\n",
       "      <td>0.244690</td>\n",
       "    </tr>\n",
       "    <tr>\n",
       "      <th>Milk</th>\n",
       "      <td>0.100510</td>\n",
       "      <td>1.000000</td>\n",
       "      <td>0.728335</td>\n",
       "      <td>0.123994</td>\n",
       "      <td>0.661816</td>\n",
       "      <td>0.406368</td>\n",
       "    </tr>\n",
       "    <tr>\n",
       "      <th>Grocery</th>\n",
       "      <td>-0.011854</td>\n",
       "      <td>0.728335</td>\n",
       "      <td>1.000000</td>\n",
       "      <td>-0.040193</td>\n",
       "      <td>0.924641</td>\n",
       "      <td>0.205497</td>\n",
       "    </tr>\n",
       "    <tr>\n",
       "      <th>Frozen</th>\n",
       "      <td>0.345881</td>\n",
       "      <td>0.123994</td>\n",
       "      <td>-0.040193</td>\n",
       "      <td>1.000000</td>\n",
       "      <td>-0.131525</td>\n",
       "      <td>0.390947</td>\n",
       "    </tr>\n",
       "    <tr>\n",
       "      <th>Detergents_Paper</th>\n",
       "      <td>-0.101953</td>\n",
       "      <td>0.661816</td>\n",
       "      <td>0.924641</td>\n",
       "      <td>-0.131525</td>\n",
       "      <td>1.000000</td>\n",
       "      <td>0.069291</td>\n",
       "    </tr>\n",
       "    <tr>\n",
       "      <th>Delicassen</th>\n",
       "      <td>0.244690</td>\n",
       "      <td>0.406368</td>\n",
       "      <td>0.205497</td>\n",
       "      <td>0.390947</td>\n",
       "      <td>0.069291</td>\n",
       "      <td>1.000000</td>\n",
       "    </tr>\n",
       "  </tbody>\n",
       "</table>\n",
       "</div>"
      ],
      "text/plain": [
       "                     Fresh      Milk   Grocery    Frozen  Detergents_Paper  \\\n",
       "Fresh             1.000000  0.100510 -0.011854  0.345881         -0.101953   \n",
       "Milk              0.100510  1.000000  0.728335  0.123994          0.661816   \n",
       "Grocery          -0.011854  0.728335  1.000000 -0.040193          0.924641   \n",
       "Frozen            0.345881  0.123994 -0.040193  1.000000         -0.131525   \n",
       "Detergents_Paper -0.101953  0.661816  0.924641 -0.131525          1.000000   \n",
       "Delicassen        0.244690  0.406368  0.205497  0.390947          0.069291   \n",
       "\n",
       "                  Delicassen  \n",
       "Fresh               0.244690  \n",
       "Milk                0.406368  \n",
       "Grocery             0.205497  \n",
       "Frozen              0.390947  \n",
       "Detergents_Paper    0.069291  \n",
       "Delicassen          1.000000  "
      ]
     },
     "execution_count": 59,
     "metadata": {},
     "output_type": "execute_result"
    }
   ],
   "source": [
    "df.corr()"
   ]
  },
  {
   "cell_type": "code",
   "execution_count": 60,
   "metadata": {},
   "outputs": [],
   "source": [
    "# PCA - Principle component analysis"
   ]
  },
  {
   "cell_type": "code",
   "execution_count": 61,
   "metadata": {},
   "outputs": [],
   "source": [
    "from sklearn.decomposition import PCA"
   ]
  },
  {
   "cell_type": "code",
   "execution_count": 62,
   "metadata": {},
   "outputs": [],
   "source": [
    "pca = PCA(n_components=2)"
   ]
  },
  {
   "cell_type": "code",
   "execution_count": 63,
   "metadata": {},
   "outputs": [
    {
     "data": {
      "text/plain": [
       "PCA(copy=True, iterated_power='auto', n_components=2, random_state=None,\n",
       "    svd_solver='auto', tol=0.0, whiten=False)"
      ]
     },
     "execution_count": 63,
     "metadata": {},
     "output_type": "execute_result"
    }
   ],
   "source": [
    "pca.fit(scaled_df)"
   ]
  },
  {
   "cell_type": "code",
   "execution_count": 64,
   "metadata": {},
   "outputs": [],
   "source": [
    "pca_2d = pca.transform(scaled_df)"
   ]
  },
  {
   "cell_type": "code",
   "execution_count": 65,
   "metadata": {},
   "outputs": [
    {
     "data": {
      "text/plain": [
       "array([0.51948323, 0.26407007])"
      ]
     },
     "execution_count": 65,
     "metadata": {},
     "output_type": "execute_result"
    }
   ],
   "source": [
    "pca.explained_variance_ratio_"
   ]
  },
  {
   "cell_type": "code",
   "execution_count": 66,
   "metadata": {},
   "outputs": [
    {
     "data": {
      "text/plain": [
       "<matplotlib.collections.PathCollection at 0x120c7ec50>"
      ]
     },
     "execution_count": 66,
     "metadata": {},
     "output_type": "execute_result"
    },
    {
     "data": {
      "image/png": "[encoded data removed]",
      "text/plain": [
       "<Figure size 432x288 with 1 Axes>"
      ]
     },
     "metadata": {
      "needs_background": "light"
     },
     "output_type": "display_data"
    }
   ],
   "source": [
    "# PCA scatter view\n",
    "\n",
    "plt.scatter(pca_2d[:,0],pca_2d[:, 1], c=channel)"
   ]
  },
  {
   "cell_type": "code",
   "execution_count": 68,
   "metadata": {},
   "outputs": [
    {
     "data": {
      "image/png": "[encoded data removed]",
      "text/plain": [
       "<Figure size 432x288 with 1 Axes>"
      ]
     },
     "metadata": {
      "needs_background": "light"
     },
     "output_type": "display_data"
    }
   ],
   "source": [
    "# kmeans scatter view\n",
    "\n",
    "kmeans = KMeans(n_clusters=2, random_state=111)\n",
    "kmeans.fit(scaled_df)\n",
    "plt.figure('K-means with 2 clusters')\n",
    "plt.scatter(pca_2d[:, 0], pca_2d[:, 1], c=kmeans.labels_)\n",
    "plt.show()"
   ]
  },
  {
   "cell_type": "code",
   "execution_count": 78,
   "metadata": {},
   "outputs": [],
   "source": [
    "chanl_prd = kmeans.predict(scaled_df)+1"
   ]
  },
  {
   "cell_type": "code",
   "execution_count": 79,
   "metadata": {},
   "outputs": [],
   "source": [
    "from sklearn.metrics import confusion_matrix, accuracy_score, f1_score"
   ]
  },
  {
   "cell_type": "code",
   "execution_count": 80,
   "metadata": {},
   "outputs": [
    {
     "data": {
      "text/plain": [
       "array([[  2, 296],\n",
       "       [ 45,  97]])"
      ]
     },
     "execution_count": 80,
     "metadata": {},
     "output_type": "execute_result"
    }
   ],
   "source": [
    "confusion_matrix(channel, chanl_prd)\n",
    "# true and predicted targets"
   ]
  },
  {
   "cell_type": "code",
   "execution_count": null,
   "metadata": {},
   "outputs": [],
   "source": [
    "# flip/reverse = transpose\n",
    "\n",
    "# kmeans.fit pass pca_2d\n",
    "\n",
    "# machine learning vid-youtube & take notes"
   ]
  }
 ],
 "metadata": {
  "kernelspec": {
   "display_name": "Python 3",
   "language": "python",
   "name": "python3"
  },
  "language_info": {
   "codemirror_mode": {
    "name": "ipython",
    "version": 3
   },
   "file_extension": ".py",
   "mimetype": "text/x-python",
   "name": "python",
   "nbconvert_exporter": "python",
   "pygments_lexer": "ipython3",
   "version": "3.7.4"
  }
 },
 "nbformat": 4,
 "nbformat_minor": 4
}
